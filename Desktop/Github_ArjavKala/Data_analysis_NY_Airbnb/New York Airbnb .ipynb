{
 "cells": [
  {
   "cell_type": "markdown",
   "metadata": {},
   "source": [
    "> ### Please Upvote if you like it and provide any sugesstions in the comments section."
   ]
  },
  {
   "cell_type": "markdown",
   "metadata": {},
   "source": [
    "![](https://upload.wikimedia.org/wikipedia/commons/thumb/6/69/Airbnb_Logo_Bélo.svg/1920px-Airbnb_Logo_Bélo.svg.png)"
   ]
  },
  {
   "cell_type": "markdown",
   "metadata": {},
   "source": [
    "**Airbnb,Inc.** is an online marketplace for arranging or offering lodging, primarily homestays, or tourism experiences. The company does not own any of the real estate listings, nor does it host events; it acts as a broker, receiving commissions from each booking.\n",
    "\n",
    "Airbnb provides a platform for hosts to accommodate guests with short-term lodging and tourism-related activities. Guests can search for lodging using filters such as lodging type, dates, location, and price. Hosts provide prices and other details for their rental or event listings, such as the allowed number of guests, home type, rules, and amenities.Pricing is determined by the host, with recommendations from Airbnb.Hosts and guests have the ability to leave reviews about the experience."
   ]
  },
  {
   "cell_type": "markdown",
   "metadata": {},
   "source": [
    "![](https://www.macobserver.com/wp-content/uploads/2018/05/airbnb-summer-vacation-768x449.png)"
   ]
  },
  {
   "cell_type": "markdown",
   "metadata": {},
   "source": [
    "The dataset is about the listings and metrics in NYC from 2008 to 2019.This dataset includes information about hosts, geographical availability, necessary metrics. First we will see what are all the details provided then analyse them and make predictions."
   ]
  },
  {
   "cell_type": "code",
   "execution_count": null,
   "metadata": {
    "_cell_guid": "b1076dfc-b9ad-4769-8c92-a6c4dae69d19",
    "_kg_hide-input": true,
    "_kg_hide-output": true,
    "_uuid": "8f2839f25d086af736a60e9eeb907d3b93b6e0e5"
   },
   "outputs": [],
   "source": [
    "# This Python 3 environment comes with many helpful analytics libraries installed\n",
    "# It is defined by the kaggle/python docker image: https://github.com/kaggle/docker-python\n",
    "# For example, here's several helpful packages to load in \n",
    "\n",
    "import numpy as np # linear algebra\n",
    "import pandas as pd # data processing, CSV file I/O (e.g. pd.read_csv)\n",
    "import datetime \n",
    "import seaborn as sb\n",
    "import matplotlib.pyplot as plt\n",
    "import folium\n",
    "from folium.plugins import MarkerCluster\n",
    "# Input data files are available in the \"../input/\" directory.\n",
    "# For example, running this (by clicking run or pressing Shift+Enter) will list all files under the input directory\n",
    "\n",
    "import os\n",
    "for dirname, _, filenames in os.walk('/kaggle/input'):\n",
    "    for filename in filenames:\n",
    "        print(os.path.join(dirname, filename))\n",
    "\n",
    "# Any results you write to the current directory are saved as output."
   ]
  },
  {
   "cell_type": "markdown",
   "metadata": {},
   "source": [
    "> # About the data"
   ]
  },
  {
   "cell_type": "markdown",
   "metadata": {},
   "source": [
    "When coming to data analysis **PANDAS** is the common library used to load or read the data. The info function of pandas provides all the basic information of the dataset like total no of rows (or) entries, total no of columns (or) features, Data type of each feature.\n",
    " \n",
    " \n",
    "**What Extra information we can get from the dataset?**\n",
    "1. Count of non-null data in each feature.\n",
    "2. Count of different data types.\n",
    "3. Memoy usage of the dataset."
   ]
  },
  {
   "cell_type": "markdown",
   "metadata": {},
   "source": [
    "### **Information on the Dataset**"
   ]
  },
  {
   "cell_type": "code",
   "execution_count": null,
   "metadata": {
    "_kg_hide-input": true
   },
   "outputs": [],
   "source": [
    "ny_data = pd.read_csv('../input/new-york-city-airbnb-open-data/AB_NYC_2019.csv',index_col = 'host_id')\n",
    "ny_data.info()"
   ]
  },
  {
   "cell_type": "markdown",
   "metadata": {},
   "source": [
    "We can see it contains 15 features (or) columns with 48.8k entries (or) rows in total. This makes a total of 733.4k total datapoints. Each feature name is specifed which we will cover in detail in next section. There are 3 different types of data Float,Int,Object (String) and on a total it occupies around 6MB of memory. Features name, host name, last review, reviews per month have missing values."
   ]
  },
  {
   "cell_type": "markdown",
   "metadata": {},
   "source": [
    "> # Columns in the Data"
   ]
  },
  {
   "cell_type": "markdown",
   "metadata": {},
   "source": [
    "Columns are called Features. Each feature is like a dimension if we consider two features and plot a relation it would be a line (might not be a straight). Instead if we consider 3 features their relationship would be a plane. So if the total no of features is N then their relationship would be a N-1 dimension space."
   ]
  },
  {
   "cell_type": "markdown",
   "metadata": {},
   "source": [
    "Features **Name**,**HostId**, **Host Name** might not be helpful in analysis and prediction. **No of reviews** and **Reviews per month** are related so one is redundant, but we only have the info of last review the first review data is not provided so both **No of reviews** and **Reviews per month** are required. We will use all the data for analysis except **Name,HostId, Host Name**."
   ]
  },
  {
   "cell_type": "markdown",
   "metadata": {},
   "source": [
    "**Some other important Things to notice**\n",
    "1. The dataset has missing values so we need to handle it first.\n",
    "2. Last review is a date type but it shows object.\n",
    "3. Also should check for duplicate entries.\n",
    "\n",
    "These are must steps in any data analysis project before getting into the analysis part. So first clean the dataset and then analyse."
   ]
  },
  {
   "cell_type": "markdown",
   "metadata": {},
   "source": [
    "> # Clean the Dataset"
   ]
  },
  {
   "cell_type": "markdown",
   "metadata": {},
   "source": [
    "Here we make sure that dataset is completely ready for analysis without errors. The errors we check for are \n",
    "1. Missing values\n",
    "2. Duplicate entries \n",
    "3. Other minor corrections"
   ]
  },
  {
   "cell_type": "markdown",
   "metadata": {},
   "source": [
    "**Missing values**\n",
    "\n",
    "From the previous section name, host name, last review, reviews per month are having missing values. Name and host name might not be useful in analysis or prediction. So we will handle the missing values in the last review, reviews per month columns.\n",
    "\n",
    "**How do we handle missing values?**\n",
    "\n",
    "We first have to check whether there is a link between columns with missing values and the other columns so we can replace those missing.\n",
    "If we dont find any link and unable to replace missing values the option is to remove those rows from dataset."
   ]
  },
  {
   "cell_type": "markdown",
   "metadata": {},
   "source": [
    "### **Missing values**"
   ]
  },
  {
   "cell_type": "code",
   "execution_count": null,
   "metadata": {
    "_kg_hide-input": true
   },
   "outputs": [],
   "source": [
    "\n",
    "print(ny_data[ny_data['number_of_reviews']==0][['number_of_reviews','last_review','reviews_per_month']]);"
   ]
  },
  {
   "cell_type": "markdown",
   "metadata": {},
   "source": [
    "The interesting part is if you observe no of entries with missing values in both last review, reviews per month is 100052 and the no of entries with number of reviews = 0 is 100052. **The above table tells us that whenever we have number of reviews = 0 last review, reviews per month are not defiend.i.e, NaN.**\n",
    "\n",
    "\n",
    "**What is the solution?**\n",
    "1. If the total no of reviews is 0 we can repalce reviews per month with 0.\n",
    "2. For missing values in last review what we can do is the last review compared in all the data is on **8th jul 2019**. So we can create a new feature **No of days since last review** which wolud be the differece between 8th jul 2019 and last review. So if last review is NaN we make the value -1 in the new feature which tells us that there was never a review on that listing."
   ]
  },
  {
   "cell_type": "code",
   "execution_count": null,
   "metadata": {
    "_kg_hide-input": true
   },
   "outputs": [],
   "source": [
    "ny_data['reviews_per_month'].fillna(0,inplace = True)\n",
    "today = datetime.datetime(2019,7,8)\n",
    "tommorow = str(today + datetime.timedelta(days=1))\n",
    "ny_data['last_review'].fillna(tommorow,inplace = True)\n",
    "\n",
    "ny_data['days_since_last_review'] = (pd.to_datetime(today) - pd.to_datetime(ny_data['last_review']))/np.timedelta64(1,'D')"
   ]
  },
  {
   "cell_type": "markdown",
   "metadata": {},
   "source": [
    "After handling the missin values you can check the info and the head in the dataset."
   ]
  },
  {
   "cell_type": "markdown",
   "metadata": {},
   "source": [
    " ### **Information on data after cleaning the data**"
   ]
  },
  {
   "cell_type": "code",
   "execution_count": null,
   "metadata": {
    "_kg_hide-input": true
   },
   "outputs": [],
   "source": [
    "print(ny_data.info())"
   ]
  },
  {
   "cell_type": "markdown",
   "metadata": {},
   "source": [
    "> # Analysis"
   ]
  },
  {
   "cell_type": "markdown",
   "metadata": {},
   "source": [
    "Fisrt lets remove all the unnecessary cells from the dataset which are not helpful in analysis **id, name, host name, last review**."
   ]
  },
  {
   "cell_type": "markdown",
   "metadata": {},
   "source": [
    "### **After Removing unnecessary features**"
   ]
  },
  {
   "cell_type": "code",
   "execution_count": null,
   "metadata": {
    "_kg_hide-input": true
   },
   "outputs": [],
   "source": [
    "ny_data = ny_data.drop(['name','id','host_name','last_review'],axis = 1)\n",
    "ny_data.head()"
   ]
  },
  {
   "cell_type": "markdown",
   "metadata": {},
   "source": [
    "### **Initial Understanding**"
   ]
  },
  {
   "cell_type": "code",
   "execution_count": null,
   "metadata": {
    "_kg_hide-input": true
   },
   "outputs": [],
   "source": [
    "plt.figure(figsize = (18,18));\n",
    "plt.subplot(221);\n",
    "counts = ny_data['room_type'].value_counts();\n",
    "plt.pie(counts,labels = counts.index,colors=['darkcyan','skyblue','powderblue'],autopct='%1.2f%%');\n",
    "plt.title('Distribution of data with respect to room type');\n",
    "\n",
    "plt.subplot(222);\n",
    "sb.countplot(data = ny_data ,x= 'neighbourhood_group',color = 'cadetblue');\n",
    "plt.title('Distribution of data with respect to neighbourhood group');\n",
    "sb.despine(offset = 10,left = True,bottom = True);\n",
    "\n",
    "plt.subplot(223);\n",
    "plt.hist(ny_data['price'],bins =60,color = 'cadetblue');\n",
    "plt.title('Distribution of data with respect to price');\n",
    "plt.xlim(0,2500);\n",
    "plt.xlabel('price $');\n",
    "plt.ylabel('count');\n",
    "\n",
    "plt.subplot(224);\n",
    "plt.hist(ny_data['availability_365'],bins =20,color='cadetblue');\n",
    "plt.title('Distribution of data with respect to availabilty');\n",
    "plt.xlabel('avaliability');\n",
    "plt.ylabel('count');\n",
    "\n",
    "sb.despine(left=True,bottom=True);"
   ]
  },
  {
   "cell_type": "markdown",
   "metadata": {},
   "source": [
    "***Summary:***\n",
    "\n",
    "1. From all the hosts in New York around 98% of them offer either entire home or private room.\n",
    "2. Brooklyn and Manhattan has highest listings so high percent of the hosts are from those areas.\n",
    "3. Average price of listing can be expected below 500$.\n",
    "4. Almost 50% of rooms are avaliable only around 20 days in whole year rest 50% avaliability is varing i.e, we only have a 50% chance of getting room whenever we want.\n"
   ]
  },
  {
   "cell_type": "markdown",
   "metadata": {},
   "source": [
    "### **Complete Analysis neighbourhood-groupwise**"
   ]
  },
  {
   "cell_type": "markdown",
   "metadata": {},
   "source": [
    "Lets look at the data neighbourhood wise and see what it tells us about that area. **But we will be looking at only two neighbourhoods Brooklyn and Queens then we proceed for prediction algorithm.**"
   ]
  },
  {
   "cell_type": "markdown",
   "metadata": {},
   "source": [
    "<h2><center>Brooklyn</center></h2>"
   ]
  },
  {
   "cell_type": "markdown",
   "metadata": {},
   "source": [
    "### **Distribution of all listings in brooklyn**\n",
    "(select those numbered points to zoom in)"
   ]
  },
  {
   "cell_type": "code",
   "execution_count": null,
   "metadata": {
    "_kg_hide-input": true
   },
   "outputs": [],
   "source": [
    "brooklyn_data = ny_data.loc[ny_data['neighbourhood_group']=='Brooklyn']\n",
    "\n",
    "map_brooklyn=folium.Map(location=[40.638177,-73.964160],tiles=\"stamenterrain\",zoom_start=11)\n",
    "marker_cluster = MarkerCluster().add_to(map_brooklyn)\n",
    "\n",
    "locations = brooklyn_data[['latitude', 'longitude']]\n",
    "locationlist = locations.values.tolist()\n",
    "\n",
    "for point in range(0, len(locationlist)):\n",
    "    folium.Marker(locationlist[point]).add_to(marker_cluster)\n",
    "    \n",
    "map_brooklyn"
   ]
  },
  {
   "cell_type": "markdown",
   "metadata": {},
   "source": [
    "The above map gives overview of all the listings present in the brooklyn location. Just select the bubble you want and it will zoom in to inner locations.Its just a graphical location of all the listings for user convenience. "
   ]
  },
  {
   "cell_type": "markdown",
   "metadata": {},
   "source": [
    "### **Listings view with respect to room type**"
   ]
  },
  {
   "cell_type": "code",
   "execution_count": null,
   "metadata": {
    "_kg_hide-input": true
   },
   "outputs": [],
   "source": [
    "fig = plt.figure(figsize=(18,12))\n",
    "fig.add_subplot(1,2,1)\n",
    "g=sb.scatterplot(brooklyn_data.longitude,brooklyn_data.latitude,hue=brooklyn_data.room_type,palette='deep',alpha =0.6)\n",
    "g.set_title('Distribution of listings based on room type according to lat-long location points');\n",
    "sb.despine(offset = 10,trim=True,ax=g);\n",
    "fig.add_subplot(2,2,2)\n",
    "x=sb.violinplot(x=brooklyn_data.room_type,y=brooklyn_data.price,palette='deep',inner=\"quartile\");\n",
    "plt.ylim(-100,500);\n",
    "plt.title('Price distribution according to room type');\n",
    "sb.despine(offset = 10,bottom = True,left=True,ax=x);\n",
    "fig.add_subplot(2,2,4);\n",
    "y=sb.violinplot(x=brooklyn_data.room_type,y=brooklyn_data.availability_365,palette='deep',inner=\"quartile\");\n",
    "sb.despine(offset = 10,bottom = True,left=True,ax=y);\n",
    "plt.title('avaliability distribution according to room type');"
   ]
  },
  {
   "cell_type": "markdown",
   "metadata": {},
   "source": [
    "Brooklyn has about 20.1k listings in which few of them are high priced so i had to limit the price range to 500$ to get a better visual on the data. The left graph (lat-long graph) contains all the listings unlike the right one where price axis is adjusted. "
   ]
  },
  {
   "cell_type": "markdown",
   "metadata": {},
   "source": [
    "### **Parameters variance with price according to room type**"
   ]
  },
  {
   "cell_type": "code",
   "execution_count": null,
   "metadata": {
    "_kg_hide-input": true
   },
   "outputs": [],
   "source": [
    "new_data=brooklyn_data[brooklyn_data.columns[4:]] \n",
    "new_data=new_data[new_data['price']<2100]\n",
    "y=new_data.columns\n",
    "count=0\n",
    "plt.figure(figsize=(18,18));\n",
    "for i in range(2,8):\n",
    "    plt.subplot(3,3,count+1);\n",
    "    sb.scatterplot(data=new_data,x='price',y=y[i],hue='room_type',palette='deep');\n",
    "    count=count+1\n",
    "sb.despine(offset = 10,bottom = True,left=True);"
   ]
  },
  {
   "cell_type": "markdown",
   "metadata": {},
   "source": [
    "The above graphs show the relation between prrice and other parameters in the data. The relation doesn't look linear. Also all the plots are differentiated based on the room type and each type has been given with a color in all the grpahs even in the previous graphs."
   ]
  },
  {
   "cell_type": "code",
   "execution_count": null,
   "metadata": {
    "_kg_hide-input": true
   },
   "outputs": [],
   "source": [
    "brooklyn_data = ny_data.loc[ny_data['neighbourhood_group']=='Brooklyn']\n",
    "plt.figure(figsize = (12,14));\n",
    "\n",
    "plt.subplot(221);\n",
    "new_data = brooklyn_data.groupby('neighbourhood')['price'].mean();\n",
    "new_data = pd.DataFrame({'neighbourhood':new_data.index,'price':new_data.values}).sort_values(by=['price']).head(10);\n",
    "barlist=plt.barh(new_data['neighbourhood'],new_data['price'],color = 'cadetblue');\n",
    "for i, v in enumerate(new_data['price']):\n",
    "    plt.text(v + 1,i-0.3, str(round(v,2)), color='grey', fontweight='bold');\n",
    "sb.despine(left=True,bottom=True);\n",
    "plt.xticks([]);\n",
    "barlist[7].set_color('lightcoral');\n",
    "plt.title('Best Places in Brooklyn by average price $');\n",
    "\n",
    "\n",
    "plt.subplot(222);\n",
    "new_data = brooklyn_data.groupby('neighbourhood')['availability_365'].mean();\n",
    "new_data = pd.DataFrame({'neighbourhood':new_data.index,'availability_365':new_data.values}).sort_values(by=['availability_365']).tail(10);\n",
    "barlist=plt.barh(new_data['neighbourhood'],new_data['availability_365'],color = 'cadetblue');\n",
    "for i, v in enumerate(new_data['availability_365']):\n",
    "    plt.text(v + 1,i-0.3, str(round(v,2)), color='grey', fontweight='bold');\n",
    "sb.despine(left=True,bottom=True);\n",
    "plt.xticks([]);\n",
    "barlist[4].set_color('lightcoral');\n",
    "plt.title('Best Places in Brooklyn by average availability in days');\n",
    "\n",
    "plt.subplot(212);\n",
    "new_data = brooklyn_data.groupby('neighbourhood')['number_of_reviews'].mean();\n",
    "new_data = pd.DataFrame({'neighbourhood':new_data.index,'number_of_reviews':new_data.values}).sort_values(by=['number_of_reviews']).tail(10);\n",
    "barlist = plt.bar(new_data['neighbourhood'],new_data['number_of_reviews'],color = 'cadetblue');\n",
    "for i, v in enumerate(new_data['number_of_reviews']):\n",
    "    plt.text(i-0.3,v + 1, str(round(v,2)), color='grey', fontweight='bold');\n",
    "sb.despine(left=True,bottom=True);\n",
    "plt.yticks([]);\n",
    "barlist[1].set_color('lightcoral');\n",
    "plt.title('Best Places in Brooklyn by average no of reviews');\n",
    "plt.tight_layout()"
   ]
  },
  {
   "cell_type": "markdown",
   "metadata": {},
   "source": [
    "***Summary:***\n",
    "1. The median price of the entire home/apt is around 150\\$ which is higher than the private room and shared room in Brooklyn. Whereas according to avaliability the shared room has high availability rate of median around 200 days.\n",
    "2. Shared rooms are less priced and are having high availability rate in brooklyn but the no of listings offering shared rooms are also less in quantity.\n",
    "3. In all the relationships initially at low prices private/shared rooms show high y axis value but the entire home/apt have good features at higher prices.\n",
    "4. If we consider no.of reviews and reviews per month they are less at higher prices and it is obvious because only few people can afford for those room types at that price. \n",
    "5. Also for high priced rooms the avaliability is either very less like for 2-5 days or very high 300-365 days(most are entire home/apt).\n",
    "6. Intresting thing is at low prices a set of houses are having higher minimum nights around 200 days. There are houses with less minimum nights at low prices but at price greater than 250$ you may not worry about minimum nights to stay.\n",
    "7. Days since last review combined with no of reviews and reviews per month tells us how frequently that room is being rated. Also not everybody rates as it is not a compulsion.\n",
    "8. East New york is one region which stood in top 10 in all the categories avg price,avg avaliability and avg no of reviews.\n"
   ]
  },
  {
   "cell_type": "markdown",
   "metadata": {},
   "source": [
    "<h2><center>Queens</center></h2>"
   ]
  },
  {
   "cell_type": "markdown",
   "metadata": {},
   "source": [
    "### **Distribution of all listings in Queens**\n",
    "(select those numbered points to zoom in)"
   ]
  },
  {
   "cell_type": "code",
   "execution_count": null,
   "metadata": {
    "_kg_hide-input": true
   },
   "outputs": [],
   "source": [
    "queens_data = ny_data.loc[ny_data['neighbourhood_group']=='Queens']\n",
    "\n",
    "map_queens=folium.Map(location=[40.6582,-73.7949],tiles=\"stamenterrain\",zoom_start=11)\n",
    "marker_cluster = MarkerCluster().add_to(map_queens)\n",
    "\n",
    "locations = queens_data[['latitude', 'longitude']]\n",
    "locationlist = locations.values.tolist()\n",
    "\n",
    "for point in range(0, len(locationlist)):\n",
    "    folium.Marker(locationlist[point]).add_to(marker_cluster)\n",
    "    \n",
    "map_queens"
   ]
  },
  {
   "cell_type": "markdown",
   "metadata": {},
   "source": [
    "The above map gives overview of all the listings present in the Queens location. Just select the bubble you want and it will zoom in to inner locations.Its just a graphical location of all the listings for user convenience. "
   ]
  },
  {
   "cell_type": "markdown",
   "metadata": {},
   "source": [
    "### **Listings view with respect to room type**"
   ]
  },
  {
   "cell_type": "code",
   "execution_count": null,
   "metadata": {
    "_kg_hide-input": true
   },
   "outputs": [],
   "source": [
    "fig = plt.figure(figsize=(18,12))\n",
    "fig.add_subplot(1,2,1)\n",
    "g=sb.scatterplot(queens_data.longitude,queens_data.latitude,hue=queens_data.room_type,palette='deep',alpha =0.6)\n",
    "g.set_title('Distribution of listings based on room type according to lat-long location points');\n",
    "sb.despine(offset = 10,trim=True,ax=g);\n",
    "fig.add_subplot(2,2,2)\n",
    "x=sb.violinplot(x=queens_data.room_type,y=queens_data.price,palette='deep',inner=\"quartile\");\n",
    "plt.ylim(-100,500);\n",
    "plt.title('Price distribution according to room type');\n",
    "sb.despine(offset = 10,bottom = True,left=True,ax=x);\n",
    "fig.add_subplot(2,2,4);\n",
    "y=sb.violinplot(x=queens_data.room_type,y=queens_data.availability_365,palette='deep',inner=\"quartile\");\n",
    "sb.despine(offset = 10,bottom = True,left=True,ax=y);\n",
    "plt.title('avaliability distribution according to room type');"
   ]
  },
  {
   "cell_type": "markdown",
   "metadata": {},
   "source": [
    "Queens has about 5.6k listings and similar to brooklyn data above few of the listings are high priced so i had to limit the price range to 500$ to get a better visual on the data. The left graph (lat-long graph) contains all the listings unlike the right one where price axis is adjusted. "
   ]
  },
  {
   "cell_type": "markdown",
   "metadata": {},
   "source": [
    "### **Parameters variance with price according to room type**"
   ]
  },
  {
   "cell_type": "code",
   "execution_count": null,
   "metadata": {
    "_kg_hide-input": true
   },
   "outputs": [],
   "source": [
    "new_data=queens_data[queens_data.columns[4:]] \n",
    "new_data=new_data[new_data['price']<2100]\n",
    "y=new_data.columns\n",
    "count=0\n",
    "plt.figure(figsize=(18,18));\n",
    "for i in range(2,8):\n",
    "    plt.subplot(3,3,count+1);\n",
    "    sb.scatterplot(data=new_data,x='price',y=y[i],hue='room_type',palette='deep');\n",
    "    count=count+1\n",
    "sb.despine(offset = 10,bottom = True,left=True);"
   ]
  },
  {
   "cell_type": "markdown",
   "metadata": {},
   "source": [
    "We have similar representation of relationships like brooklyn data but the quantity of data is less comapred to brooklyn. Also the price range is limited till 2000$ and none of the relation is linear. Color reperesntation of the data is same to broolkyn. "
   ]
  },
  {
   "cell_type": "code",
   "execution_count": null,
   "metadata": {
    "_kg_hide-input": true
   },
   "outputs": [],
   "source": [
    "brooklyn_data = ny_data.loc[ny_data['neighbourhood_group']=='Queens']\n",
    "plt.figure(figsize = (12,18));\n",
    "\n",
    "plt.subplot(221);\n",
    "new_data = brooklyn_data.groupby('neighbourhood')['price'].mean();\n",
    "new_data = pd.DataFrame({'neighbourhood':new_data.index,'price':new_data.values}).sort_values(by=['price']).head(10);\n",
    "barlist=plt.barh(new_data['neighbourhood'],new_data['price'],color = 'cadetblue');\n",
    "for i, v in enumerate(new_data['price']):\n",
    "    plt.text(v + 1,i-0.3, str(round(v,2)), color='grey', fontweight='bold');\n",
    "sb.despine(left=True,bottom=True);\n",
    "plt.xticks([]);\n",
    "barlist[9].set_color('lightcoral');\n",
    "plt.title('Best Places in Queens by average price $');\n",
    "\n",
    "\n",
    "plt.subplot(222);\n",
    "new_data = brooklyn_data.groupby('neighbourhood')['availability_365'].mean();\n",
    "new_data = pd.DataFrame({'neighbourhood':new_data.index,'availability_365':new_data.values}).sort_values(by=['availability_365']).tail(10);\n",
    "barlist=plt.barh(new_data['neighbourhood'],new_data['availability_365'],color = 'cadetblue');\n",
    "for i, v in enumerate(new_data['availability_365']):\n",
    "    plt.text(v + 1,i-0.3, str(round(v,2)), color='grey', fontweight='bold');\n",
    "sb.despine(left=True,bottom=True);\n",
    "plt.xticks([]);\n",
    "barlist[5].set_color('lightcoral');\n",
    "plt.title('Best Places in Queens by average availability in days');\n",
    "\n",
    "plt.subplot(212);\n",
    "new_data = brooklyn_data.groupby('neighbourhood')['number_of_reviews'].mean();\n",
    "new_data = pd.DataFrame({'neighbourhood':new_data.index,'number_of_reviews':new_data.values}).sort_values(by=['number_of_reviews']).tail(10);\n",
    "barlist = plt.bar(new_data['neighbourhood'],new_data['number_of_reviews'],color = 'cadetblue');\n",
    "for i, v in enumerate(new_data['number_of_reviews']):\n",
    "    plt.text(i-0.3,v + 1, str(round(v,2)), color='grey', fontweight='bold');\n",
    "sb.despine(left=True,bottom=True);\n",
    "plt.yticks([]);\n",
    "barlist[7].set_color('lightcoral');\n",
    "plt.xticks(rotation=15);\n",
    "plt.title('Best Places in Queens by average no of reviews');\n",
    "plt.tight_layout()"
   ]
  },
  {
   "cell_type": "markdown",
   "metadata": {},
   "source": [
    "***Summary:***\n",
    "1. The median price of entire home/apt is around 130\\$ which is almost near to the private room and shared room with median prices around 80 and 50\\$ respectively. The average availability of the shared room is around 200 days but unlike brooklyn here the average avaliability of the private room and entire home/apt is around 100 days.\n",
    "2. No of listings of shared room are limited but thier average price is placed less and average avalaiability high around 200 days.\n",
    "3. Minimum no of nights to stay reduces with increase in price. From price around 250\\$ minimum nights will not be an issue.\n",
    "4. No of reviews and reviews per month are more at less price than higher price as there is less chance of people going for a high priced rooms.\n",
    "5. similar to brooklyn spread of availability is high at low prices and at higher price the avaliability is either very less or very high.\n",
    "6. At low prices some listings are having high value for days since last review which means every person who rents might not rate the residence. But when combined with no of reviews and reviews per month it tells us how frequently that room is being rated.\n",
    "7. South Ozone Park is the location which is in top 10 of all the categories avg price,avg avaliability and avg no of reviews."
   ]
  },
  {
   "cell_type": "markdown",
   "metadata": {},
   "source": [
    "### Prediction\n",
    "As we can see The missing values are already handled. Now the remaining steps to perform before prediction are\n",
    "1. Removing outilers in the data\n",
    "2. Feature Selection\n",
    "3. Feature Encoding\n",
    "4. Feature Scaling\n",
    "5. Train Test Split\n"
   ]
  },
  {
   "cell_type": "code",
   "execution_count": null,
   "metadata": {
    "_kg_hide-input": true
   },
   "outputs": [],
   "source": [
    "ny_data.info()\n"
   ]
  },
  {
   "cell_type": "markdown",
   "metadata": {},
   "source": [
    "### 1. Removing Outliers \n",
    "\n",
    "Outliers are more dangerous to the training data as the high values effect the model training heavily. So inorder to avoid these outliers we need to remove them from training data. so to identify outliers we can use box plots(single variable)."
   ]
  },
  {
   "cell_type": "code",
   "execution_count": null,
   "metadata": {
    "_kg_hide-input": true
   },
   "outputs": [],
   "source": [
    "plt.figure(figsize=(16,10))\n",
    "plt.subplot(231)\n",
    "ny_data.boxplot(column=['price']);\n",
    "plt.subplot(232)\n",
    "ny_data.boxplot(column=['calculated_host_listings_count']);\n",
    "plt.subplot(233)\n",
    "ny_data.boxplot(column=['days_since_last_review']);\n",
    "plt.subplot(234)\n",
    "ny_data.boxplot(column=['reviews_per_month']);\n",
    "plt.subplot(235)\n",
    "ny_data.boxplot(column=['number_of_reviews']);\n",
    "plt.subplot(236)\n",
    "ny_data.boxplot(column=['minimum_nights']);"
   ]
  },
  {
   "cell_type": "markdown",
   "metadata": {},
   "source": [
    "In some cases if we remove some outliers from one of the column it should show some reduction in outliers in all other columns but here it is not lik that. Check below example where i confine the price to 200 then plot the box plots see what it does to the other column outliers.\n"
   ]
  },
  {
   "cell_type": "code",
   "execution_count": null,
   "metadata": {
    "_kg_hide-input": true
   },
   "outputs": [],
   "source": [
    "newdata = ny_data[ny_data['price']<200]\n",
    "plt.figure(figsize=(16,10))\n",
    "plt.subplot(231)\n",
    "newdata.boxplot(column=['price']);\n",
    "plt.subplot(232)\n",
    "newdata.boxplot(column=['calculated_host_listings_count']);\n",
    "plt.subplot(233)\n",
    "newdata.boxplot(column=['days_since_last_review']);\n",
    "plt.subplot(234)\n",
    "newdata.boxplot(column=['reviews_per_month']);\n",
    "plt.subplot(235)\n",
    "newdata.boxplot(column=['number_of_reviews']);\n",
    "plt.subplot(236)\n",
    "newdata.boxplot(column=['minimum_nights']);"
   ]
  },
  {
   "cell_type": "markdown",
   "metadata": {},
   "source": [
    "If you can observe there is very little change in the other column outliers. Also outliers should be rare, but by the data we can see there are a lot of them which means they have impact on the rest of the data. Lets see multivariate relation to see posssible outliers."
   ]
  },
  {
   "cell_type": "code",
   "execution_count": null,
   "metadata": {
    "_kg_hide-input": true
   },
   "outputs": [],
   "source": [
    "plt.figure(figsize=(16,10))\n",
    "plt.subplot(231)\n",
    "plt.scatter(data=ny_data,x='calculated_host_listings_count',y='price',alpha=0.2);\n",
    "plt.xlabel('calculated_host_listings_count');\n",
    "plt.ylabel('Price');\n",
    "plt.subplot(232)\n",
    "plt.scatter(data=ny_data,x='days_since_last_review',y='price',alpha=0.2);\n",
    "plt.xlabel('days_since_last_review');\n",
    "plt.ylabel('Price');\n",
    "plt.subplot(233)\n",
    "plt.scatter(data=ny_data,x='reviews_per_month',y='price',alpha=0.2);\n",
    "plt.xlabel('reviews_per_month');\n",
    "plt.ylabel('Price');\n",
    "plt.subplot(234)\n",
    "plt.scatter(data=ny_data,x='number_of_reviews',y='price',alpha=0.2);\n",
    "plt.xlabel('number_of_reviews');\n",
    "plt.ylabel('Price');\n",
    "plt.subplot(235)\n",
    "plt.scatter(data=ny_data,x='minimum_nights',y='price',alpha=0.2);\n",
    "plt.xlabel('minimum_nights');\n",
    "plt.ylabel('Price');\n",
    "plt.subplot(236)\n",
    "plt.scatter(data=ny_data,x='availability_365',y='price',alpha=0.2);\n",
    "plt.xlabel('availability_365');\n",
    "plt.ylabel('Price');"
   ]
  },
  {
   "cell_type": "markdown",
   "metadata": {},
   "source": [
    "From the five graphs with their relation to price we can avoid values after certain point to avoid the training to consider them. These outer values will considerably affect the training. Instead of deleting them lets add them together as a seperate dataset.\n",
    "\n",
    "1. From Price vs calculated host listing count -> The limits which i choose for outliers are calculated host listing >60\n",
    "2. From Price vs days since last review -> The limits which i choose for outliers are days since last revivew >= 2000 \n",
    "3. From Price vs reviews per month -> The limits which i choose for outliers are reviews per month >= 15\n",
    "4. From Price vs number of reviews -> The limits which i consider for outliers are number of reviews > 500.\n",
    "5. From the Price vs minumum nights -> The limits which i choose are miminimum nights >= 300.\n",
    "\n",
    "Also from all the graphs if we observe points with price > 4500 look they are very less in number but thier effect on price are very high than the rest of the data so we consider them into outlier data."
   ]
  },
  {
   "cell_type": "markdown",
   "metadata": {},
   "source": [
    "### Info on Outlier data After seperating from main data"
   ]
  },
  {
   "cell_type": "code",
   "execution_count": null,
   "metadata": {
    "_kg_hide-input": true
   },
   "outputs": [],
   "source": [
    "outlier_data = ny_data[ (ny_data['price']>4500) | (ny_data['calculated_host_listings_count']>60) | (ny_data['days_since_last_review']>=2000) \n",
    "                       | (ny_data['reviews_per_month']>=15) | (ny_data['number_of_reviews']>500) | (ny_data['minimum_nights']>=300) ]\n",
    "\n",
    "ny_data = pd.concat([ny_data, outlier_data, outlier_data]).drop_duplicates(keep=False)\n",
    "\n",
    "outlier_data.head()"
   ]
  },
  {
   "cell_type": "code",
   "execution_count": null,
   "metadata": {
    "_kg_hide-input": true
   },
   "outputs": [],
   "source": [
    "outlier_data.info()"
   ]
  },
  {
   "cell_type": "markdown",
   "metadata": {},
   "source": [
    "### 2. Feature Selection\n",
    "\n",
    "Three techniques that we can use for feature selection.\n",
    "1. Univariate Selection -> Filter based model\n",
    "2. Feature Importance -> embedded model\n",
    "3. Correlation Matrix with HeatMap"
   ]
  },
  {
   "cell_type": "markdown",
   "metadata": {},
   "source": [
    "### 1. Univariate Selection\n",
    "Using the combination of Statistical test with the slectkbest method of sklearn to select best K features  which perform best in the selected test.  There are different statistical filters pearson's,spearman's,ANOVA,Kendall,Chi-squared etc., Each of them is based on type of the i/p feature and the target feature. **Kendall and Spearman** are from **scipy** library the rest of the filters are from **Sklearn**. \n"
   ]
  },
  {
   "cell_type": "markdown",
   "metadata": {},
   "source": [
    "The target variable is numerical and in the data we have 8 numerical(other than target variable) and 3 categorical types. Also none of them look to be having linear relation so for i/p variables of numeric we apply spearman's filter and for i/p variables of categorical we apply Kendall filter to find out their score. Based on the scores we decide top 8 columns to use for prediction."
   ]
  },
  {
   "cell_type": "markdown",
   "metadata": {},
   "source": [
    "### 3. Feature Encoding\n",
    "\n",
    "This is the part where we convert our categorical data into numeric form for the training to create a relation between the target column and the categorical column. \n",
    "\n",
    "There are three columns which are categorical neighbourhood_group,neighbourhood and room_type. All of them should be converted into numerics."
   ]
  },
  {
   "cell_type": "markdown",
   "metadata": {},
   "source": [
    "### main data"
   ]
  },
  {
   "cell_type": "code",
   "execution_count": null,
   "metadata": {
    "_kg_hide-input": true
   },
   "outputs": [],
   "source": [
    "ny_data=pd.get_dummies(ny_data,prefix=['neighbourhood_group','neighbourhood','room_type'], drop_first=True)\n",
    "ny_data.head()"
   ]
  },
  {
   "cell_type": "code",
   "execution_count": null,
   "metadata": {
    "_kg_hide-input": true
   },
   "outputs": [],
   "source": [
    "ny_data.columns"
   ]
  },
  {
   "cell_type": "markdown",
   "metadata": {},
   "source": [
    "### outlier data"
   ]
  },
  {
   "cell_type": "code",
   "execution_count": null,
   "metadata": {
    "_kg_hide-input": true
   },
   "outputs": [],
   "source": [
    "outlier_data=pd.get_dummies(outlier_data,prefix=['neighbourhood_group','neighbourhood','room_type'])\n",
    "outlier_data.drop(columns=['room_type_Entire home/apt','neighbourhood_group_Bronx'],axis=1,inplace=True)\n",
    "new_cols = list(ny_data.columns.difference(outlier_data.columns))\n",
    "for i in new_cols:\n",
    "    outlier_data[i]=0\n",
    "outlier_data.head()\n"
   ]
  },
  {
   "cell_type": "code",
   "execution_count": null,
   "metadata": {
    "_kg_hide-input": true
   },
   "outputs": [],
   "source": [
    "outlier_data.columns"
   ]
  }
 ],
 "metadata": {
  "kernelspec": {
   "display_name": "Python 3",
   "language": "python",
   "name": "python3"
  },
  "language_info": {
   "codemirror_mode": {
    "name": "ipython",
    "version": 3
   },
   "file_extension": ".py",
   "mimetype": "text/x-python",
   "name": "python",
   "nbconvert_exporter": "python",
   "pygments_lexer": "ipython3",
   "version": "3.7.3"
  }
 },
 "nbformat": 4,
 "nbformat_minor": 1
}
